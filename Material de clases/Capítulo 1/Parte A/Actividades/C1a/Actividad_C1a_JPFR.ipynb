{
  "nbformat": 4,
  "nbformat_minor": 0,
  "metadata": {
    "colab": {
      "name": "Actividad C1a JPFR.ipynb",
      "provenance": []
    },
    "kernelspec": {
      "name": "python3",
      "display_name": "Python 3"
    },
    "language_info": {
      "name": "python"
    }
  },
  "cells": [
    {
      "cell_type": "markdown",
      "source": [
        "Actividad C1a / 18.09"
      ],
      "metadata": {
        "id": "owlkWFRTj9Zo"
      }
    },
    {
      "cell_type": "markdown",
      "source": [
        "Primero se define la clase invernadero, donde tiene 3 elementos propios de este, la cantidad de huertos, los litros del estanque de riego y la temperatura dentro."
      ],
      "metadata": {
        "id": "5XminoLcq4Jc"
      }
    },
    {
      "cell_type": "markdown",
      "source": [
        "*Se considera en este caso que el tiempo transcurrido es de 15 horas*"
      ],
      "metadata": {
        "id": "CERhdAIurds1"
      }
    },
    {
      "cell_type": "markdown",
      "source": [
        "Se utiliza clases abstractas y herencia para formar la clase base (frutos_rojos) y las sub clases (cada fruto mencionado)"
      ],
      "metadata": {
        "id": "nhco7TZWtpCo"
      }
    },
    {
      "cell_type": "code",
      "source": [
        "from abc import ABCMeta, abstractmethod\n",
        "import random \n",
        "\n",
        "class invernadero:\n",
        "  def __init__(self, huertos, litros_tanque, temp):\n",
        "    self.huertos = huertos\n",
        "    self.litros_tanque = litros_tanque\n",
        "    self.temp = temp\n",
        "    self.puerta_abierta = False\n",
        "  def __str__(self):\n",
        "    return f\"La temperatura es de: {self.temp}, los huertos ocupados son: {self.huertos} y la temperatura es de: {self.temp}\"\n",
        "\n",
        "class frutos_rojos(metaclass=ABCMeta):\n",
        "    @abstractmethod\n",
        "    def __init__(self, riego_por_hora, huertos_ocupados):\n",
        "        self.riego_por_hora = riego_por_hora\n",
        "        self.huertos_ocupados = huertos_ocupados\n",
        "\n",
        "class Frutillas(frutos_rojos):\n",
        "    \n",
        "    def __init__(self):\n",
        "        super().__init__(riego_por_hora, huertos_ocupados):\n",
        "\n",
        "class Frambuesas(frutos_rojos):\n",
        "  \n",
        "    def __init__(self):\n",
        "        super().__init__(riego_por_hora, huertos_ocupados):\n",
        "\n",
        "\n",
        "class Moras(frutos_rojos):\n",
        "    \n",
        "    def __init__(self):\n",
        "        super().__init__(riego_por_hora, huertos_ocupados):\n",
        "\n",
        "for hora in range(15):\n",
        "  if puerta_abierta == True:\n",
        "    temp -= 1\n",
        "  temp += random.randint(3,5)\n",
        "  if \"falta agua\":\n",
        "  if temp >= 26:\n",
        "    puerta_abierta = True\n",
        "  elif temp == 21:\n",
        "    puerta_abierta = False\n",
        "\n",
        "\n",
        "\n",
        "\n"
      ],
      "metadata": {
        "id": "uk-eAxJanQbL"
      },
      "execution_count": null,
      "outputs": []
    }
  ]
}